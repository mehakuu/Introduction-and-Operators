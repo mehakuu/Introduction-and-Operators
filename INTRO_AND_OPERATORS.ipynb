{
  "nbformat": 4,
  "nbformat_minor": 0,
  "metadata": {
    "colab": {
      "provenance": []
    },
    "kernelspec": {
      "name": "python3",
      "display_name": "Python 3"
    },
    "language_info": {
      "name": "python"
    }
  },
  "cells": [
    {
      "cell_type": "code",
      "execution_count": 5,
      "metadata": {
        "colab": {
          "base_uri": "https://localhost:8080/"
        },
        "id": "rsg5d_8qwna3",
        "outputId": "2c4c8c45-0fc5-467f-ebbc-5e8ec4d7fd31"
      },
      "outputs": [
        {
          "output_type": "stream",
          "name": "stdout",
          "text": [
            "HELLO\n",
            "HELLO\n",
            "HELLO\n",
            "345\n",
            "45.32\n",
            "True\n",
            "None\n"
          ]
        }
      ],
      "source": [
        "#DECLARING THE VARIABLES\n",
        "a='''HELLO'''\n",
        "a1='HELLO'\n",
        "a2=\"HELLO\"\n",
        "b=345\n",
        "c=45.32\n",
        "d=True\n",
        "e=None\n",
        "#PRINTING THE VARIABLES\n",
        "print(a)\n",
        "print(a1)\n",
        "print(a2)\n",
        "print(b)\n",
        "print(c)\n",
        "print(d)\n",
        "print(e)"
      ]
    },
    {
      "cell_type": "code",
      "source": [
        "#PRINTING THE TYPES OF THE VARIABLES\n",
        "print(type(a))\n",
        "print(type(b))\n",
        "print(type(c))\n",
        "print(type(d))\n",
        "print(type(e))"
      ],
      "metadata": {
        "colab": {
          "base_uri": "https://localhost:8080/"
        },
        "id": "fknpJtnp0iTG",
        "outputId": "4691a671-8efa-46e0-fa26-e03c3750ee69"
      },
      "execution_count": 6,
      "outputs": [
        {
          "output_type": "stream",
          "name": "stdout",
          "text": [
            "<class 'str'>\n",
            "<class 'int'>\n",
            "<class 'float'>\n",
            "<class 'bool'>\n",
            "<class 'NoneType'>\n"
          ]
        }
      ]
    },
    {
      "cell_type": "code",
      "source": [
        "#ARITHMETIC OPERATORS\n",
        "a=5\n",
        "b=10\n",
        "print(\"THE VALUE OF A+B IS \", a+b)\n",
        "print(\"THE VALUE OF A*B IS \", a*b)\n",
        "print(\"THE VALUE OF A-B IS \", a-b)\n",
        "print(\"THE VALUE OF A/B IS \", a/b)\n",
        "print(\"THE VALUE OF A%B IS \", a%b)"
      ],
      "metadata": {
        "colab": {
          "base_uri": "https://localhost:8080/"
        },
        "id": "VYeveT2S09xX",
        "outputId": "4b2f7da0-5964-41bd-e523-3dff0acac5a8"
      },
      "execution_count": 7,
      "outputs": [
        {
          "output_type": "stream",
          "name": "stdout",
          "text": [
            "THE VALUE OF A+B IS  15\n",
            "THE VALUE OF A*B IS  50\n",
            "THE VALUE OF A-B IS  -5\n",
            "THE VALUE OF A/B IS  0.5\n",
            "THE VALUE OF A%B IS  5\n"
          ]
        }
      ]
    },
    {
      "cell_type": "code",
      "source": [
        "#ASSIGNMENT OPERATORS\n",
        "a=20\n",
        "print(a)\n",
        "a+=14\n",
        "print(a)\n",
        "a-=14\n",
        "print(a)\n",
        "a*=14\n",
        "print(a)\n",
        "a/=14\n",
        "print(a)\n",
        "type(a)"
      ],
      "metadata": {
        "colab": {
          "base_uri": "https://localhost:8080/"
        },
        "id": "5UttvSVU1y10",
        "outputId": "6f49f003-bac7-4065-e83b-550beccaff9e"
      },
      "execution_count": 8,
      "outputs": [
        {
          "output_type": "stream",
          "name": "stdout",
          "text": [
            "20\n",
            "34\n",
            "20\n",
            "280\n",
            "20.0\n"
          ]
        },
        {
          "output_type": "execute_result",
          "data": {
            "text/plain": [
              "float"
            ]
          },
          "metadata": {},
          "execution_count": 8
        }
      ]
    },
    {
      "cell_type": "code",
      "source": [
        "#COMPARISON OPERATORS\n",
        "b=(4<7)\n",
        "print(b)\n",
        "b=(4>7)\n",
        "print(b)\n",
        "b=(4==7)\n",
        "print(b)\n",
        "b=(4<=7)\n",
        "print(b)\n",
        "b=(4>=7)\n",
        "print(b)\n",
        "b=(4!=7)\n",
        "print(b)"
      ],
      "metadata": {
        "colab": {
          "base_uri": "https://localhost:8080/"
        },
        "id": "KRWixWdv3ht4",
        "outputId": "0ccd8ca9-6319-41ff-aa16-e35759d5adf9"
      },
      "execution_count": 9,
      "outputs": [
        {
          "output_type": "stream",
          "name": "stdout",
          "text": [
            "True\n",
            "False\n",
            "False\n",
            "True\n",
            "False\n",
            "True\n"
          ]
        }
      ]
    },
    {
      "cell_type": "code",
      "source": [
        "#COMAPRISON WITH BOOLEAN\n",
        "c=(True==False)\n",
        "print(c)\n",
        "c=(True!=False)\n",
        "print(c)"
      ],
      "metadata": {
        "colab": {
          "base_uri": "https://localhost:8080/"
        },
        "id": "gixoH3pP4oi4",
        "outputId": "a7d98835-e65e-4d25-a951-6addb475b87b"
      },
      "execution_count": 10,
      "outputs": [
        {
          "output_type": "stream",
          "name": "stdout",
          "text": [
            "False\n",
            "True\n"
          ]
        }
      ]
    },
    {
      "cell_type": "code",
      "source": [
        "#LOGICAL OPERATORS\n",
        "bool1=True\n",
        "bool2=False\n",
        "print(\"THE VALUE OF BOOL1 AND BOOL2 IS\", (bool1 and bool2))\n",
        "print(\"THE VALUE OF BOOL1 AND BOOL2 IS\", (bool1 or bool2))\n",
        "print(\"THE VALUE OF BOOL2 IS\", (not bool2))"
      ],
      "metadata": {
        "colab": {
          "base_uri": "https://localhost:8080/"
        },
        "id": "OtnXHrtQ6qMn",
        "outputId": "3a942c44-08e6-4681-e7a7-5d407c0d6d44"
      },
      "execution_count": 12,
      "outputs": [
        {
          "output_type": "stream",
          "name": "stdout",
          "text": [
            "THE VALUE OF BOOL1 AND BOOL2 IS False\n",
            "THE VALUE OF BOOL1 AND BOOL2 IS True\n",
            "THE VALUE OF BOOL2 IS True\n"
          ]
        }
      ]
    },
    {
      "cell_type": "code",
      "source": [
        "#TYPECASTING(STRING TO INTEGER)\n",
        "a=\"40\"\n",
        "print(a)\n",
        "print(type(a))\n",
        "a=int(a)\n",
        "print(a)\n",
        "print(type(a))\n",
        "#TYPECASTING(INTEGER TO STRING)\n",
        "b=20\n",
        "print(b)\n",
        "print(type(b))\n",
        "b=str(b)\n",
        "print(b)\n",
        "print(type(b))\n",
        "#TYPECASTING(INTEGER TO FLOAT)\n",
        "c=10\n",
        "print(c)\n",
        "print(type(c))\n",
        "c=float(c)\n",
        "print(c)\n",
        "print(type(c))\n",
        "#TYPECASTING(INTEGER TO COMPLEX)\n",
        "d=30\n",
        "print(d)\n",
        "print(type(d))\n",
        "d=float(d)\n",
        "print(d)\n",
        "print(type(d))\n",
        "#TYPECASTING(CHANGING AND ADDING)\n",
        "e=\"50\"\n",
        "print(e)\n",
        "print(type(e))\n",
        "e=int(e)\n",
        "print(e+5)\n",
        "print(type(e))"
      ],
      "metadata": {
        "colab": {
          "base_uri": "https://localhost:8080/"
        },
        "id": "VvlZEuxL7Vhl",
        "outputId": "c24b1ebb-22e9-4d01-f2c9-20912db3a7c6"
      },
      "execution_count": 20,
      "outputs": [
        {
          "output_type": "stream",
          "name": "stdout",
          "text": [
            "40\n",
            "<class 'str'>\n",
            "40\n",
            "<class 'int'>\n",
            "20\n",
            "<class 'int'>\n",
            "20\n",
            "<class 'str'>\n",
            "10\n",
            "<class 'int'>\n",
            "10.0\n",
            "<class 'float'>\n",
            "30\n",
            "<class 'int'>\n",
            "30.0\n",
            "<class 'float'>\n",
            "50\n",
            "<class 'str'>\n",
            "55\n",
            "<class 'int'>\n"
          ]
        }
      ]
    },
    {
      "cell_type": "code",
      "source": [
        "#TAKING INPUT FROM USER\n",
        "A=input(\"ENTER ANY VALUE YOU WANT: \")\n",
        "A=int(A)\n",
        "print(type(A))"
      ],
      "metadata": {
        "colab": {
          "base_uri": "https://localhost:8080/"
        },
        "id": "ogKPJevp-1yb",
        "outputId": "71e34179-732e-49ae-a699-7590d35eaeb3"
      },
      "execution_count": 21,
      "outputs": [
        {
          "output_type": "stream",
          "name": "stdout",
          "text": [
            "ENTER ANY VALUE YOU WANT: 60\n",
            "<class 'int'>\n"
          ]
        }
      ]
    }
  ]
}